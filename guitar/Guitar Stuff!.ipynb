{
 "cells": [
  {
   "cell_type": "code",
   "execution_count": 6,
   "metadata": {},
   "outputs": [
    {
     "name": "stdout",
     "output_type": "stream",
     "text": [
      "['B', 'C', 'C#', 'D', 'D#', 'E', 'F', 'F#', 'G', 'G#', 'A', 'A#']\n"
     ]
    }
   ],
   "source": [
    "# Using the intervals of a given scale as indexes.\n",
    "# Two octaves worth of notes\n",
    "whole_notes = ['C', 'C#', 'D', 'D#', 'E', 'F', 'F#', 'G',\n",
    "                    'G#', 'A', 'A#', 'B'] * 3\n",
    "# Example, index where element 'B' is located.\n",
    "root = whole_notes.index('B')\n",
    "\n",
    "# Starting from this index, slice 12 elements\n",
    "B = whole_notes[root:root + 12]\n",
    "\n",
    "print(B) # B Chromatic scale\n"
   ]
  },
  {
   "cell_type": "code",
   "execution_count": 7,
   "metadata": {},
   "outputs": [
    {
     "name": "stdout",
     "output_type": "stream",
     "text": [
      "B major scale: ['B', 'C#', 'D#', 'E', 'F#', 'G#', 'A#']\n",
      "Some scale:  ['B', 'C#', 'E', 'A', 'A#']\n"
     ]
    }
   ],
   "source": [
    "# Using the major scale intervals to retrive the B major scale\n",
    "major_scale = [0, 2, 4, 5, 7, 9, 11]\n",
    "\n",
    "notes = [B[i] for i in major_scale]\n",
    "print(\"B major scale:\", notes)\n",
    "\n",
    "# Notes contained in another scale,\n",
    "another_scale = [0, 2, 5, 10, 11]\n",
    "notes = [B[i] for i in another_scale]\n",
    "print('Some scale: ', notes)\n"
   ]
  },
  {
   "cell_type": "markdown",
   "metadata": {},
   "source": [
    "### Step 1 - A function that retrieves of the notes in scale"
   ]
  },
  {
   "cell_type": "code",
   "execution_count": 8,
   "metadata": {},
   "outputs": [],
   "source": [
    "## STEP 1\n",
    "# A function that summarises the above code, to retrieve any major_scale\n",
    "def get_notes(key, intervals):\n",
    "    \"\"\"Given any key C, C#...B\n",
    "        and intervals z.B Tone Tone Semitone\"\"\"\n",
    "\n",
    "    whole_notes = ['C', 'C#', 'D', 'D#', 'E', 'F', 'F#', 'G',\n",
    "                    'G#', 'A', 'A#', 'B'] * 3 # A long seq. of notes to slice from\n",
    "\n",
    "    root = whole_notes.index(key) # Finding start of slice\n",
    "    octave = whole_notes[root:root + 13] # taking 12 consecutive elements\n",
    "    return [octave[i] for i in intervals] # accessing indexes specified by 'intervals' to retrive notes\n"
   ]
  },
  {
   "cell_type": "markdown",
   "metadata": {},
   "source": [
    "## STEP 2\n",
    "### Creating a dict with commone musical scales!"
   ]
  },
  {
   "cell_type": "code",
   "execution_count": 11,
   "metadata": {},
   "outputs": [],
   "source": [
    "scales = {\n",
    "    \"major\" : [0, 2, 4, 5, 7, 9, 11],\n",
    "    \"minor\" : [0, 2, 3, 5, 7, 10, 11],\n",
    "    \"dorian\" : [0, 2, 3, 4, 7, 9, 10, 12],\n",
    "    \"phrygian\" : [0, 1, 3, 5, 7, 8, 10, 12],\n",
    "    \"minor_pentatonic\" : [0, 3, 5, 7, 10],\n",
    "    \"major_pentatonic\" : [0, 2, 4, 7, 9],\n",
    "    \"harmonic_minor\" : [0, 2, 3, 5, 7, 8, 10, 12],\n",
    "    \"mixolydian\" : [0, 2, 4, 5, 7, 9, 10],\n",
    "    \"minor_blues\" : [0, 3, 5, 6, 7, 10],\n",
    "    \"locrian\" : [0, 1, 3, 5, 6, 8, 10, 12],\n",
    "    \"lydian\" : [0, 2, 4, 6, 7, 9, 11, 12],\n",
    "}\n",
    "\n",
    "# Now, we have an easy way of accessing the notes of any scale, start at any root!\n",
    "#print(\"A minor scale: \", get_notes('A', scales['minor']))\n",
    "# print(\"Test: \", get_notes('E', scales['minor_blues']))"
   ]
  },
  {
   "cell_type": "markdown",
   "metadata": {},
   "source": [
    "## STEP 3 MAKING THE GUITAR\n"
   ]
  },
  {
   "cell_type": "code",
   "execution_count": 12,
   "metadata": {},
   "outputs": [],
   "source": [
    "# making a dict with the name of the strings as its keys\n",
    "strings = {i:0 for i in 'EADGB'}\n",
    "for i in strings.keys():\n",
    "    start = whole_notes.index(i)\n",
    "    strings[i] = whole_notes[start:start + 20] # Shows up in ErrorLens, but runs without error?\n",
    "\n",
    "# print(strings.keys())\n",
    "# print(\"Notes on the E string: \", strings['E'])\n",
    "\n",
    "# Finding notes on a guitar function\n",
    "def find_notes(scale):\n",
    "    notes_strings = {i:0 for i in \"EADGB\"}\n",
    "    \n",
    "    # for ever string\n",
    "    for key in strings.keys():\n",
    "        # create an empty list of indexes\n",
    "        indexes = []\n",
    "        for note in scale:\n",
    "            # append index where note of the scale is found in \n",
    "            ind = strings[key].index(note)\n",
    "            indexes.append(ind)\n",
    "            # because where are 20 frets, there are duplicate notes in the string\n",
    "            if ind <= 7:\n",
    "                # must also append these to indexes\n",
    "                indexes.append(ind + 13)\n",
    "        notes_strings[key] = indexes\n",
    "    return notes_strings\n",
    "\n"
   ]
  },
  {
   "cell_type": "code",
   "execution_count": 13,
   "metadata": {},
   "outputs": [
    {
     "name": "stdout",
     "output_type": "stream",
     "text": [
      "Position of C minor blues in the guitar:\n",
      "Notes in the E string [8, 11, 1, 14, 2, 15, 3, 16, 6, 19]\n",
      "Notes in the A string [3, 16, 6, 19, 8, 9, 10, 1, 14]\n",
      "Notes in the D string [10, 1, 14, 3, 16, 4, 17, 5, 18, 8]\n",
      "Notes in the G string [5, 18, 8, 10, 11, 0, 13, 3, 16]\n",
      "Notes in the B string [1, 14, 4, 17, 6, 19, 7, 20, 8, 11]\n"
     ]
    }
   ],
   "source": [
    "# finding notes in a scale:\n",
    "C_minor_blues = get_notes('C', scales['minor_blues'])\n",
    "# finding positions of these notes in the guitar, as a dict\n",
    "positions = find_notes(C_minor_blues)\n",
    "print('Position of C minor blues in the guitar:')\n",
    "for i in positions.keys():\n",
    "    print('Notes in the {} string {}'.format(i, positions[i]))"
   ]
  },
  {
   "cell_type": "code",
   "execution_count": 14,
   "metadata": {},
   "outputs": [],
   "source": [
    "import matplotlib.pyplot as plt\n",
    "import numpy as np\n",
    "import matplotlib.patches as mpatches\n"
   ]
  },
  {
   "cell_type": "code",
   "execution_count": 17,
   "metadata": {},
   "outputs": [],
   "source": [
    "def plot(key, intervals, night = True):\n",
    "    scale = get_notes(key, intervals)\n",
    "\n",
    "    # plot strings\n",
    "    fig, ax = plt.subplots(figsize=(20, 6))\n",
    "    background = ['white', 'black']\n",
    "    for i in range(1, 7):\n",
    "        ax.plot([i for a in range(22)])\n",
    "\n",
    "    # plot frets\n",
    "    for i in range(1, 21):\n",
    "        # decorates the twelve frets with a gray and thick fret\n",
    "        if i == 12:\n",
    "            ax.axvline(x = i, color = 'gray', linewidth = 3.5)\n",
    "            continue\n",
    "        # trace a vertical line (a fret)\n",
    "        ax.axvline(x = i, color = background[night - 1], linewidth = 0.5)\n",
    "    ax.set_axisbelow(True)\n",
    "\n",
    "    # setting height and width of displayed guitar\n",
    "    ax.set_xlim([0, 21]) # freth length...? yes.\n",
    "    ax.set_ylim([0.4, 6.5])\n",
    "    # setting color of the background using argument night\n",
    "    ax.set_facecolor(background[night])\n",
    "    # finding note positions of the scale in the guitar\n",
    "    to_plot = find_notes(scale)\n",
    "\n",
    "    # for ever note of the scal ein every string, make a circle\n",
    "    # with the note's name as label for the corresponding fret\n",
    "    for y_val, key in zip([1, 2, 3, 4, 5, 6], 'EADGBE'):\n",
    "        for i in to_plot[key]:\n",
    "            font = 12\n",
    "            x = i+0.5 # shift the circles\n",
    "            p = mpatches.Circle((x, y_val), 0.2)\n",
    "            ax.add_patch(p)\n",
    "            note =  strings[key][i]\n",
    "            # if note is the root make it a big bigger\n",
    "            if note == scale[0]:\n",
    "                font = 14.5\n",
    "            # add label to middle of the circle\n",
    "            ax.annotate(note, (i+0.5, y_val), color = 'w', weight = 'bold',\n",
    "                            fontsize = font, ha = 'center', va = 'center')\n",
    "\n",
    "    plt.title('_|_|_|_|_|' * 16)\n",
    "    plt.yticks(np.arange(1, 7), ['E', 'A', 'D', 'G', 'B', 'E'])\n",
    "    plt.xticks(np.arange(21)+0.5, np.arange(0, 22))\n",
    "    plt.show\n"
   ]
  },
  {
   "cell_type": "code",
   "execution_count": 16,
   "metadata": {},
   "outputs": [
    {
     "ename": "AttributeError",
     "evalue": "'AxesSubplot' object has no attribute 'avline'",
     "output_type": "error",
     "traceback": [
      "\u001b[1;31m---------------------------------------------------------------------------\u001b[0m",
      "\u001b[1;31mAttributeError\u001b[0m                            Traceback (most recent call last)",
      "\u001b[1;32m<ipython-input-16-10f9f900e5b1>\u001b[0m in \u001b[0;36m<module>\u001b[1;34m\u001b[0m\n\u001b[1;32m----> 1\u001b[1;33m \u001b[0mplot\u001b[0m\u001b[1;33m(\u001b[0m\u001b[1;34m'C'\u001b[0m\u001b[1;33m,\u001b[0m \u001b[0mscales\u001b[0m\u001b[1;33m[\u001b[0m\u001b[1;34m'major'\u001b[0m\u001b[1;33m]\u001b[0m\u001b[1;33m)\u001b[0m\u001b[1;33m\u001b[0m\u001b[1;33m\u001b[0m\u001b[0m\n\u001b[0m",
      "\u001b[1;32m<ipython-input-15-1c18bdc202f7>\u001b[0m in \u001b[0;36mplot\u001b[1;34m(key, intervals, night)\u001b[0m\n\u001b[0;32m     15\u001b[0m             \u001b[1;32mcontinue\u001b[0m\u001b[1;33m\u001b[0m\u001b[1;33m\u001b[0m\u001b[0m\n\u001b[0;32m     16\u001b[0m         \u001b[1;31m# trace a vertical line (a fret)\u001b[0m\u001b[1;33m\u001b[0m\u001b[1;33m\u001b[0m\u001b[1;33m\u001b[0m\u001b[0m\n\u001b[1;32m---> 17\u001b[1;33m         \u001b[0max\u001b[0m\u001b[1;33m.\u001b[0m\u001b[0mavline\u001b[0m\u001b[1;33m(\u001b[0m\u001b[0mx\u001b[0m \u001b[1;33m=\u001b[0m \u001b[0mi\u001b[0m\u001b[1;33m,\u001b[0m \u001b[0mcolor\u001b[0m \u001b[1;33m=\u001b[0m \u001b[0mbackground\u001b[0m\u001b[1;33m[\u001b[0m\u001b[0mnight\u001b[0m \u001b[1;33m-\u001b[0m \u001b[1;36m1\u001b[0m\u001b[1;33m]\u001b[0m\u001b[1;33m,\u001b[0m \u001b[0mlinewidth\u001b[0m \u001b[1;33m=\u001b[0m \u001b[1;36m0.5\u001b[0m\u001b[1;33m)\u001b[0m\u001b[1;33m\u001b[0m\u001b[1;33m\u001b[0m\u001b[0m\n\u001b[0m\u001b[0;32m     18\u001b[0m     \u001b[0max\u001b[0m\u001b[1;33m.\u001b[0m\u001b[0mset_axisbelow\u001b[0m\u001b[1;33m(\u001b[0m\u001b[1;32mTrue\u001b[0m\u001b[1;33m)\u001b[0m\u001b[1;33m\u001b[0m\u001b[1;33m\u001b[0m\u001b[0m\n\u001b[0;32m     19\u001b[0m \u001b[1;33m\u001b[0m\u001b[0m\n",
      "\u001b[1;31mAttributeError\u001b[0m: 'AxesSubplot' object has no attribute 'avline'"
     ]
    },
    {
     "data": {
      "image/png": "[encoded data removed]",
      "text/plain": [
       "<Figure size 1440x432 with 1 Axes>"
      ]
     },
     "metadata": {
      "needs_background": "light"
     },
     "output_type": "display_data"
    }
   ],
   "source": [
    "plot('C', scales['major'])"
   ]
  },
  {
   "cell_type": "code",
   "execution_count": null,
   "metadata": {},
   "outputs": [],
   "source": []
  },
  {
   "cell_type": "code",
   "execution_count": null,
   "metadata": {},
   "outputs": [],
   "source": []
  }
 ],
 "metadata": {
  "kernelspec": {
   "display_name": "Python 3",
   "language": "python",
   "name": "python3"
  },
  "language_info": {
   "codemirror_mode": {
    "name": "ipython",
    "version": 3
   },
   "file_extension": ".py",
   "mimetype": "text/x-python",
   "name": "python",
   "nbconvert_exporter": "python",
   "pygments_lexer": "ipython3",
   "version": "3.8.5"
  }
 },
 "nbformat": 4,
 "nbformat_minor": 4
}
